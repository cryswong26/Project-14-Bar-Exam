{
 "cells": [
  {
   "cell_type": "markdown",
   "id": "d730160c-8207-4579-8dd3-a33b57397c8f",
   "metadata": {},
   "source": [
    "## Bar Exam - Logistic Regression"
   ]
  },
  {
   "cell_type": "code",
   "execution_count": 1,
   "id": "67278a47-0a31-47a5-8895-3f7cd67ca5f2",
   "metadata": {},
   "outputs": [],
   "source": [
    "import pandas as pd\n",
    "from sklearn.linear_model import LogisticRegression\n",
    "from sklearn.model_selection import train_test_split\n",
    "from sklearn import metrics\n",
    "import matplotlib.pyplot as plt\n",
    "import numpy as np\n",
    "from math import sqrt\n",
    "import pickle"
   ]
  },
  {
   "cell_type": "code",
   "execution_count": 3,
   "id": "b120b800-3a9d-4ba3-9e6e-7628225a16f9",
   "metadata": {
    "tags": []
   },
   "outputs": [
    {
     "data": {
      "text/html": [
       "<div>\n",
       "<style scoped>\n",
       "    .dataframe tbody tr th:only-of-type {\n",
       "        vertical-align: middle;\n",
       "    }\n",
       "\n",
       "    .dataframe tbody tr th {\n",
       "        vertical-align: top;\n",
       "    }\n",
       "\n",
       "    .dataframe thead th {\n",
       "        text-align: right;\n",
       "    }\n",
       "</style>\n",
       "<table border=\"1\" class=\"dataframe\">\n",
       "  <thead>\n",
       "    <tr style=\"text-align: right;\">\n",
       "      <th></th>\n",
       "      <th>0</th>\n",
       "      <th>1</th>\n",
       "      <th>2</th>\n",
       "      <th>3</th>\n",
       "      <th>4</th>\n",
       "    </tr>\n",
       "  </thead>\n",
       "  <tbody>\n",
       "    <tr>\n",
       "      <th>decile1b</th>\n",
       "      <td>10.0</td>\n",
       "      <td>5.0</td>\n",
       "      <td>3.0</td>\n",
       "      <td>7.0</td>\n",
       "      <td>9.0</td>\n",
       "    </tr>\n",
       "    <tr>\n",
       "      <th>decile3</th>\n",
       "      <td>10.0</td>\n",
       "      <td>4.0</td>\n",
       "      <td>2.0</td>\n",
       "      <td>4.0</td>\n",
       "      <td>8.0</td>\n",
       "    </tr>\n",
       "    <tr>\n",
       "      <th>ID</th>\n",
       "      <td>2</td>\n",
       "      <td>3</td>\n",
       "      <td>36</td>\n",
       "      <td>52</td>\n",
       "      <td>55</td>\n",
       "    </tr>\n",
       "    <tr>\n",
       "      <th>decile1</th>\n",
       "      <td>10.0</td>\n",
       "      <td>5.0</td>\n",
       "      <td>3.0</td>\n",
       "      <td>7.0</td>\n",
       "      <td>9.0</td>\n",
       "    </tr>\n",
       "    <tr>\n",
       "      <th>sex</th>\n",
       "      <td>1.0</td>\n",
       "      <td>1.0</td>\n",
       "      <td>2.0</td>\n",
       "      <td>2.0</td>\n",
       "      <td>2.0</td>\n",
       "    </tr>\n",
       "    <tr>\n",
       "      <th>race</th>\n",
       "      <td>7.0</td>\n",
       "      <td>7.0</td>\n",
       "      <td>7.0</td>\n",
       "      <td>7.0</td>\n",
       "      <td>7.0</td>\n",
       "    </tr>\n",
       "    <tr>\n",
       "      <th>cluster</th>\n",
       "      <td>1.0</td>\n",
       "      <td>2.0</td>\n",
       "      <td>3.0</td>\n",
       "      <td>3.0</td>\n",
       "      <td>4.0</td>\n",
       "    </tr>\n",
       "    <tr>\n",
       "      <th>lsat</th>\n",
       "      <td>44.0</td>\n",
       "      <td>29.0</td>\n",
       "      <td>36.0</td>\n",
       "      <td>39.0</td>\n",
       "      <td>48.0</td>\n",
       "    </tr>\n",
       "    <tr>\n",
       "      <th>ugpa</th>\n",
       "      <td>3.5</td>\n",
       "      <td>3.5</td>\n",
       "      <td>3.5</td>\n",
       "      <td>3.5</td>\n",
       "      <td>3.5</td>\n",
       "    </tr>\n",
       "    <tr>\n",
       "      <th>zfygpa</th>\n",
       "      <td>1.33</td>\n",
       "      <td>-0.11</td>\n",
       "      <td>-0.64</td>\n",
       "      <td>0.34</td>\n",
       "      <td>1.02</td>\n",
       "    </tr>\n",
       "    <tr>\n",
       "      <th>DOB_yr</th>\n",
       "      <td>69.0</td>\n",
       "      <td>69.0</td>\n",
       "      <td>65.0</td>\n",
       "      <td>58.0</td>\n",
       "      <td>68.0</td>\n",
       "    </tr>\n",
       "    <tr>\n",
       "      <th>grad</th>\n",
       "      <td>Y</td>\n",
       "      <td>Y</td>\n",
       "      <td>Y</td>\n",
       "      <td>Y</td>\n",
       "      <td>Y</td>\n",
       "    </tr>\n",
       "    <tr>\n",
       "      <th>zgpa</th>\n",
       "      <td>1.88</td>\n",
       "      <td>-0.57</td>\n",
       "      <td>-1.12</td>\n",
       "      <td>-0.49</td>\n",
       "      <td>0.76</td>\n",
       "    </tr>\n",
       "    <tr>\n",
       "      <th>bar1</th>\n",
       "      <td>P</td>\n",
       "      <td>P</td>\n",
       "      <td>P</td>\n",
       "      <td>P</td>\n",
       "      <td>P</td>\n",
       "    </tr>\n",
       "    <tr>\n",
       "      <th>bar1_yr</th>\n",
       "      <td>7.0</td>\n",
       "      <td>7.0</td>\n",
       "      <td>7.0</td>\n",
       "      <td>7.0</td>\n",
       "      <td>7.0</td>\n",
       "    </tr>\n",
       "    <tr>\n",
       "      <th>bar2</th>\n",
       "      <td>P</td>\n",
       "      <td>P</td>\n",
       "      <td>P</td>\n",
       "      <td>P</td>\n",
       "      <td>P</td>\n",
       "    </tr>\n",
       "    <tr>\n",
       "      <th>bar2_yr</th>\n",
       "      <td>94.0</td>\n",
       "      <td>94.0</td>\n",
       "      <td>94.0</td>\n",
       "      <td>94.0</td>\n",
       "      <td>94.0</td>\n",
       "    </tr>\n",
       "    <tr>\n",
       "      <th>fulltime</th>\n",
       "      <td>1.0</td>\n",
       "      <td>1.0</td>\n",
       "      <td>1.0</td>\n",
       "      <td>1.0</td>\n",
       "      <td>1.0</td>\n",
       "    </tr>\n",
       "    <tr>\n",
       "      <th>fam_inc</th>\n",
       "      <td>5.0</td>\n",
       "      <td>4.0</td>\n",
       "      <td>1.0</td>\n",
       "      <td>4.0</td>\n",
       "      <td>4.0</td>\n",
       "    </tr>\n",
       "    <tr>\n",
       "      <th>age</th>\n",
       "      <td>-62.0</td>\n",
       "      <td>-62.0</td>\n",
       "      <td>-58.0</td>\n",
       "      <td>-51.0</td>\n",
       "      <td>-61.0</td>\n",
       "    </tr>\n",
       "    <tr>\n",
       "      <th>gender</th>\n",
       "      <td>female</td>\n",
       "      <td>female</td>\n",
       "      <td>male</td>\n",
       "      <td>male</td>\n",
       "      <td>male</td>\n",
       "    </tr>\n",
       "    <tr>\n",
       "      <th>parttime</th>\n",
       "      <td>0.0</td>\n",
       "      <td>0.0</td>\n",
       "      <td>0.0</td>\n",
       "      <td>0.0</td>\n",
       "      <td>0.0</td>\n",
       "    </tr>\n",
       "    <tr>\n",
       "      <th>male</th>\n",
       "      <td>0.0</td>\n",
       "      <td>0.0</td>\n",
       "      <td>1.0</td>\n",
       "      <td>1.0</td>\n",
       "      <td>1.0</td>\n",
       "    </tr>\n",
       "    <tr>\n",
       "      <th>race1</th>\n",
       "      <td>white</td>\n",
       "      <td>white</td>\n",
       "      <td>white</td>\n",
       "      <td>white</td>\n",
       "      <td>white</td>\n",
       "    </tr>\n",
       "    <tr>\n",
       "      <th>race2</th>\n",
       "      <td>b white</td>\n",
       "      <td>b white</td>\n",
       "      <td>b white</td>\n",
       "      <td>b white</td>\n",
       "      <td>b white</td>\n",
       "    </tr>\n",
       "    <tr>\n",
       "      <th>Dropout</th>\n",
       "      <td>NO</td>\n",
       "      <td>NO</td>\n",
       "      <td>NO</td>\n",
       "      <td>NO</td>\n",
       "      <td>NO</td>\n",
       "    </tr>\n",
       "    <tr>\n",
       "      <th>other</th>\n",
       "      <td>0</td>\n",
       "      <td>0</td>\n",
       "      <td>0</td>\n",
       "      <td>0</td>\n",
       "      <td>0</td>\n",
       "    </tr>\n",
       "    <tr>\n",
       "      <th>asian</th>\n",
       "      <td>0</td>\n",
       "      <td>0</td>\n",
       "      <td>0</td>\n",
       "      <td>0</td>\n",
       "      <td>0</td>\n",
       "    </tr>\n",
       "    <tr>\n",
       "      <th>black</th>\n",
       "      <td>0</td>\n",
       "      <td>0</td>\n",
       "      <td>0</td>\n",
       "      <td>0</td>\n",
       "      <td>0</td>\n",
       "    </tr>\n",
       "    <tr>\n",
       "      <th>hisp</th>\n",
       "      <td>0</td>\n",
       "      <td>0</td>\n",
       "      <td>0</td>\n",
       "      <td>0</td>\n",
       "      <td>0</td>\n",
       "    </tr>\n",
       "    <tr>\n",
       "      <th>pass_bar</th>\n",
       "      <td>1</td>\n",
       "      <td>1</td>\n",
       "      <td>1</td>\n",
       "      <td>1</td>\n",
       "      <td>1</td>\n",
       "    </tr>\n",
       "    <tr>\n",
       "      <th>bar</th>\n",
       "      <td>a Passed 1st time</td>\n",
       "      <td>a Passed 1st time</td>\n",
       "      <td>a Passed 1st time</td>\n",
       "      <td>a Passed 1st time</td>\n",
       "      <td>a Passed 1st time</td>\n",
       "    </tr>\n",
       "    <tr>\n",
       "      <th>bar_passed</th>\n",
       "      <td>True</td>\n",
       "      <td>True</td>\n",
       "      <td>True</td>\n",
       "      <td>True</td>\n",
       "      <td>True</td>\n",
       "    </tr>\n",
       "    <tr>\n",
       "      <th>tier</th>\n",
       "      <td>4.0</td>\n",
       "      <td>2.0</td>\n",
       "      <td>3.0</td>\n",
       "      <td>3.0</td>\n",
       "      <td>5.0</td>\n",
       "    </tr>\n",
       "    <tr>\n",
       "      <th>index6040</th>\n",
       "      <td>886.842082</td>\n",
       "      <td>649.999987</td>\n",
       "      <td>760.526298</td>\n",
       "      <td>807.894717</td>\n",
       "      <td>949.999974</td>\n",
       "    </tr>\n",
       "    <tr>\n",
       "      <th>indxgrp</th>\n",
       "      <td>g 700+</td>\n",
       "      <td>f 640-700</td>\n",
       "      <td>g 700+</td>\n",
       "      <td>g 700+</td>\n",
       "      <td>g 700+</td>\n",
       "    </tr>\n",
       "    <tr>\n",
       "      <th>indxgrp2</th>\n",
       "      <td>i 820+</td>\n",
       "      <td>f 640-700</td>\n",
       "      <td>h 760-820</td>\n",
       "      <td>h 760-820</td>\n",
       "      <td>i 820+</td>\n",
       "    </tr>\n",
       "    <tr>\n",
       "      <th>dnn_bar_pass_prediction</th>\n",
       "      <td>0.979804</td>\n",
       "      <td>0.979804</td>\n",
       "      <td>0.979804</td>\n",
       "      <td>0.979804</td>\n",
       "      <td>0.979804</td>\n",
       "    </tr>\n",
       "    <tr>\n",
       "      <th>gpa</th>\n",
       "      <td>3.5</td>\n",
       "      <td>3.5</td>\n",
       "      <td>3.5</td>\n",
       "      <td>3.5</td>\n",
       "      <td>3.5</td>\n",
       "    </tr>\n",
       "  </tbody>\n",
       "</table>\n",
       "</div>"
      ],
      "text/plain": [
       "                                         0                  1  \\\n",
       "decile1b                              10.0                5.0   \n",
       "decile3                               10.0                4.0   \n",
       "ID                                       2                  3   \n",
       "decile1                               10.0                5.0   \n",
       "sex                                    1.0                1.0   \n",
       "race                                   7.0                7.0   \n",
       "cluster                                1.0                2.0   \n",
       "lsat                                  44.0               29.0   \n",
       "ugpa                                   3.5                3.5   \n",
       "zfygpa                                1.33              -0.11   \n",
       "DOB_yr                                69.0               69.0   \n",
       "grad                                     Y                  Y   \n",
       "zgpa                                  1.88              -0.57   \n",
       "bar1                                     P                  P   \n",
       "bar1_yr                                7.0                7.0   \n",
       "bar2                                     P                  P   \n",
       "bar2_yr                               94.0               94.0   \n",
       "fulltime                               1.0                1.0   \n",
       "fam_inc                                5.0                4.0   \n",
       "age                                  -62.0              -62.0   \n",
       "gender                              female             female   \n",
       "parttime                               0.0                0.0   \n",
       "male                                   0.0                0.0   \n",
       "race1                                white              white   \n",
       "race2                              b white            b white   \n",
       "Dropout                                 NO                 NO   \n",
       "other                                    0                  0   \n",
       "asian                                    0                  0   \n",
       "black                                    0                  0   \n",
       "hisp                                     0                  0   \n",
       "pass_bar                                 1                  1   \n",
       "bar                      a Passed 1st time  a Passed 1st time   \n",
       "bar_passed                            True               True   \n",
       "tier                                   4.0                2.0   \n",
       "index6040                       886.842082         649.999987   \n",
       "indxgrp                             g 700+          f 640-700   \n",
       "indxgrp2                            i 820+          f 640-700   \n",
       "dnn_bar_pass_prediction           0.979804           0.979804   \n",
       "gpa                                    3.5                3.5   \n",
       "\n",
       "                                         2                  3  \\\n",
       "decile1b                               3.0                7.0   \n",
       "decile3                                2.0                4.0   \n",
       "ID                                      36                 52   \n",
       "decile1                                3.0                7.0   \n",
       "sex                                    2.0                2.0   \n",
       "race                                   7.0                7.0   \n",
       "cluster                                3.0                3.0   \n",
       "lsat                                  36.0               39.0   \n",
       "ugpa                                   3.5                3.5   \n",
       "zfygpa                               -0.64               0.34   \n",
       "DOB_yr                                65.0               58.0   \n",
       "grad                                     Y                  Y   \n",
       "zgpa                                 -1.12              -0.49   \n",
       "bar1                                     P                  P   \n",
       "bar1_yr                                7.0                7.0   \n",
       "bar2                                     P                  P   \n",
       "bar2_yr                               94.0               94.0   \n",
       "fulltime                               1.0                1.0   \n",
       "fam_inc                                1.0                4.0   \n",
       "age                                  -58.0              -51.0   \n",
       "gender                                male               male   \n",
       "parttime                               0.0                0.0   \n",
       "male                                   1.0                1.0   \n",
       "race1                                white              white   \n",
       "race2                              b white            b white   \n",
       "Dropout                                 NO                 NO   \n",
       "other                                    0                  0   \n",
       "asian                                    0                  0   \n",
       "black                                    0                  0   \n",
       "hisp                                     0                  0   \n",
       "pass_bar                                 1                  1   \n",
       "bar                      a Passed 1st time  a Passed 1st time   \n",
       "bar_passed                            True               True   \n",
       "tier                                   3.0                3.0   \n",
       "index6040                       760.526298         807.894717   \n",
       "indxgrp                             g 700+             g 700+   \n",
       "indxgrp2                         h 760-820          h 760-820   \n",
       "dnn_bar_pass_prediction           0.979804           0.979804   \n",
       "gpa                                    3.5                3.5   \n",
       "\n",
       "                                         4  \n",
       "decile1b                               9.0  \n",
       "decile3                                8.0  \n",
       "ID                                      55  \n",
       "decile1                                9.0  \n",
       "sex                                    2.0  \n",
       "race                                   7.0  \n",
       "cluster                                4.0  \n",
       "lsat                                  48.0  \n",
       "ugpa                                   3.5  \n",
       "zfygpa                                1.02  \n",
       "DOB_yr                                68.0  \n",
       "grad                                     Y  \n",
       "zgpa                                  0.76  \n",
       "bar1                                     P  \n",
       "bar1_yr                                7.0  \n",
       "bar2                                     P  \n",
       "bar2_yr                               94.0  \n",
       "fulltime                               1.0  \n",
       "fam_inc                                4.0  \n",
       "age                                  -61.0  \n",
       "gender                                male  \n",
       "parttime                               0.0  \n",
       "male                                   1.0  \n",
       "race1                                white  \n",
       "race2                              b white  \n",
       "Dropout                                 NO  \n",
       "other                                    0  \n",
       "asian                                    0  \n",
       "black                                    0  \n",
       "hisp                                     0  \n",
       "pass_bar                                 1  \n",
       "bar                      a Passed 1st time  \n",
       "bar_passed                            True  \n",
       "tier                                   5.0  \n",
       "index6040                       949.999974  \n",
       "indxgrp                             g 700+  \n",
       "indxgrp2                            i 820+  \n",
       "dnn_bar_pass_prediction           0.979804  \n",
       "gpa                                    3.5  "
      ]
     },
     "execution_count": 3,
     "metadata": {},
     "output_type": "execute_result"
    }
   ],
   "source": [
    "df = pd.read_csv('../assets/bar_pass_prediction.csv')\n",
    "df.head().T\n",
    "#lots of features...will need to narrow it down for the model"
   ]
  },
  {
   "cell_type": "code",
   "execution_count": null,
   "id": "31e87bdc-92bd-4bbb-86b5-3906953ee19e",
   "metadata": {},
   "outputs": [],
   "source": [
    "#notes from data source:\n",
    "#pass_bar = whether or not the student passed the bar exam (the target variable)\n",
    "#ugpa = undergraduate gpa\n",
    "#lsat = lsat score (doesn't seem to follow the usual scoring convention though)\n",
    "#tier = tier of the law school the student attended (by quintile)\n",
    "#fulltime = whether the student was a full time law student"
   ]
  },
  {
   "cell_type": "markdown",
   "id": "20ea1aa2-1b3e-4bcb-8786-13e356a458a7",
   "metadata": {},
   "source": [
    "## Exploratory Data Analysis"
   ]
  },
  {
   "cell_type": "code",
   "execution_count": 7,
   "id": "9c10fead-4ed8-4dab-8fae-127f9894039d",
   "metadata": {},
   "outputs": [
    {
     "data": {
      "text/plain": [
       "(22407, 39)"
      ]
     },
     "execution_count": 7,
     "metadata": {},
     "output_type": "execute_result"
    }
   ],
   "source": [
    "df.shape\n",
    "#22K records"
   ]
  },
  {
   "cell_type": "code",
   "execution_count": 4,
   "id": "a3e1a8bb-e3b7-44d5-bd71-13713420d8cc",
   "metadata": {},
   "outputs": [],
   "source": [
    "# declare the list of features\n",
    "#the features noted above seem the most relevant ot me; also excluced demographic features based on comment from previous project\n",
    "features = ['ugpa','lsat','tier','fulltime']"
   ]
  },
  {
   "cell_type": "code",
   "execution_count": 5,
   "id": "df3ab5b9-284c-4782-b5fc-7e701c773c0a",
   "metadata": {},
   "outputs": [
    {
     "name": "stdout",
     "output_type": "stream",
     "text": [
      "ugpa         0\n",
      "lsat         0\n",
      "tier        96\n",
      "fulltime    34\n",
      "dtype: int64\n"
     ]
    }
   ],
   "source": [
    "# check for missing values for the features\n",
    "print(df[features].isnull().sum())\n",
    "#some missing values for school tier and fulltime status"
   ]
  },
  {
   "cell_type": "code",
   "execution_count": 6,
   "id": "c5295368-95c4-45b9-b074-d5e3802fe4b9",
   "metadata": {},
   "outputs": [
    {
     "name": "stdout",
     "output_type": "stream",
     "text": [
      "0\n"
     ]
    }
   ],
   "source": [
    "#make sure the target variable isn't missing any values\n",
    "print(df['pass_bar'].isnull().sum())"
   ]
  },
  {
   "cell_type": "code",
   "execution_count": 10,
   "id": "feb863b4-8e6d-41c2-856d-9500eadd201d",
   "metadata": {},
   "outputs": [
    {
     "name": "stdout",
     "output_type": "stream",
     "text": [
      "3.0    7991\n",
      "4.0    6083\n",
      "5.0    3895\n",
      "6.0    2054\n",
      "2.0    1694\n",
      "1.0     594\n",
      "Name: tier, dtype: int64\n"
     ]
    }
   ],
   "source": [
    "#fill in missing values or drop them\n",
    "#since these are not continuous variables I don't want to use the mean or another aggregation method\n",
    "#there are also only a few missing records relative to the size of the data set (<1%) so I will drop them\n",
    "df.dropna(subset=['tier'], inplace=True)\n",
    "print(df['tier'].value_counts(dropna=False))\n",
    "#check the math\n",
    "#22407 - 96 = 22311\n",
    "#7991+6083+3895+2054+1694+594 = 22311"
   ]
  },
  {
   "cell_type": "code",
   "execution_count": 12,
   "id": "2c31f297-f35d-4cdf-bd51-9a3aeaa9e8e3",
   "metadata": {},
   "outputs": [
    {
     "name": "stdout",
     "output_type": "stream",
     "text": [
      "1.0    20638\n",
      "2.0     1639\n",
      "NaN       34\n",
      "Name: fulltime, dtype: int64\n"
     ]
    }
   ],
   "source": [
    "print(df['fulltime'].value_counts(dropna=False))\n",
    "#20638+1639+34 = 22311"
   ]
  },
  {
   "cell_type": "code",
   "execution_count": 13,
   "id": "213e9303-9ec0-43ec-88ce-100ed2d39f3c",
   "metadata": {},
   "outputs": [],
   "source": [
    "df.dropna(subset=['fulltime'], inplace=True)"
   ]
  },
  {
   "cell_type": "code",
   "execution_count": 14,
   "id": "9deb5a7e-a661-47bf-8486-3dd530d07d75",
   "metadata": {},
   "outputs": [
    {
     "name": "stdout",
     "output_type": "stream",
     "text": [
      "1.0    20638\n",
      "2.0     1639\n",
      "Name: fulltime, dtype: int64\n"
     ]
    }
   ],
   "source": [
    "print(df['fulltime'].value_counts(dropna=False))\n",
    "#20638+1639 = 22,277"
   ]
  },
  {
   "cell_type": "code",
   "execution_count": 15,
   "id": "ae2d4147-c58e-4718-8e7c-059cec8acd38",
   "metadata": {},
   "outputs": [
    {
     "data": {
      "text/plain": [
       "(22277, 39)"
      ]
     },
     "execution_count": 15,
     "metadata": {},
     "output_type": "execute_result"
    }
   ],
   "source": [
    "df.shape"
   ]
  },
  {
   "cell_type": "code",
   "execution_count": 16,
   "id": "c87f242a-ebd4-4675-9f67-19b326718ec2",
   "metadata": {},
   "outputs": [
    {
     "name": "stdout",
     "output_type": "stream",
     "text": [
      "ugpa        0\n",
      "lsat        0\n",
      "tier        0\n",
      "fulltime    0\n",
      "dtype: int64\n"
     ]
    }
   ],
   "source": [
    "#make sure there are no more null values\n",
    "print(df[features].isnull().sum())"
   ]
  },
  {
   "cell_type": "code",
   "execution_count": 18,
   "id": "f78aa960-46b0-4d5d-b724-f7eac68a5489",
   "metadata": {},
   "outputs": [
    {
     "data": {
      "text/plain": [
       "decile1b                   float64\n",
       "decile3                    float64\n",
       "ID                           int64\n",
       "decile1                    float64\n",
       "sex                        float64\n",
       "race                       float64\n",
       "cluster                    float64\n",
       "lsat                       float64\n",
       "ugpa                       float64\n",
       "zfygpa                     float64\n",
       "DOB_yr                     float64\n",
       "grad                        object\n",
       "zgpa                       float64\n",
       "bar1                        object\n",
       "bar1_yr                    float64\n",
       "bar2                        object\n",
       "bar2_yr                    float64\n",
       "fulltime                   float64\n",
       "fam_inc                    float64\n",
       "age                        float64\n",
       "gender                      object\n",
       "parttime                   float64\n",
       "male                       float64\n",
       "race1                       object\n",
       "race2                       object\n",
       "Dropout                     object\n",
       "other                        int64\n",
       "asian                        int64\n",
       "black                        int64\n",
       "hisp                         int64\n",
       "pass_bar                     int64\n",
       "bar                         object\n",
       "bar_passed                    bool\n",
       "tier                       float64\n",
       "index6040                  float64\n",
       "indxgrp                     object\n",
       "indxgrp2                    object\n",
       "dnn_bar_pass_prediction    float64\n",
       "gpa                        float64\n",
       "dtype: object"
      ]
     },
     "execution_count": 18,
     "metadata": {},
     "output_type": "execute_result"
    }
   ],
   "source": [
    "#make sure features and target variable are all numeric\n",
    "df.dtypes\n",
    "#['ugpa','lsat','tier','fulltime','pass_bar']"
   ]
  },
  {
   "cell_type": "code",
   "execution_count": 21,
   "id": "d8c1d34f-2ac8-4451-93e2-1c80f5a87555",
   "metadata": {},
   "outputs": [
    {
     "data": {
      "text/plain": [
       "count    22277.000000\n",
       "mean         3.217125\n",
       "std          0.403113\n",
       "min          1.500000\n",
       "25%          3.000000\n",
       "50%          3.200000\n",
       "75%          3.500000\n",
       "max          3.900000\n",
       "Name: ugpa, dtype: float64"
      ]
     },
     "execution_count": 21,
     "metadata": {},
     "output_type": "execute_result"
    }
   ],
   "source": [
    "#take a look at some basic stats\n",
    "df['ugpa'].describe()"
   ]
  },
  {
   "cell_type": "code",
   "execution_count": 22,
   "id": "2e9dd3f5-cd09-4598-8cd5-931b0755dd04",
   "metadata": {},
   "outputs": [
    {
     "data": {
      "text/plain": [
       "count    22277.000000\n",
       "mean        36.796943\n",
       "std          5.437906\n",
       "min         11.000000\n",
       "25%         33.000000\n",
       "50%         37.000000\n",
       "75%         41.000000\n",
       "max         48.000000\n",
       "Name: lsat, dtype: float64"
      ]
     },
     "execution_count": 22,
     "metadata": {},
     "output_type": "execute_result"
    }
   ],
   "source": [
    "df['lsat'].describe()\n",
    "#not the usual scoring convention out of 180"
   ]
  },
  {
   "cell_type": "code",
   "execution_count": 23,
   "id": "55500378-0b32-4273-abcd-ac575ec8baa6",
   "metadata": {},
   "outputs": [
    {
     "data": {
      "text/plain": [
       "count    22277.000000\n",
       "mean         3.768461\n",
       "std          1.179060\n",
       "min          1.000000\n",
       "25%          3.000000\n",
       "50%          4.000000\n",
       "75%          5.000000\n",
       "max          6.000000\n",
       "Name: tier, dtype: float64"
      ]
     },
     "execution_count": 23,
     "metadata": {},
     "output_type": "execute_result"
    }
   ],
   "source": [
    "df['tier'].describe()\n",
    "#why is there a 6 if it's quintiles?"
   ]
  },
  {
   "cell_type": "code",
   "execution_count": 24,
   "id": "4ae30663-5d3f-4e85-914f-e7ebec716c9e",
   "metadata": {},
   "outputs": [
    {
     "data": {
      "text/plain": [
       "3.0    7985\n",
       "4.0    6074\n",
       "5.0    3885\n",
       "6.0    2050\n",
       "2.0    1691\n",
       "1.0     592\n",
       "Name: tier, dtype: int64"
      ]
     },
     "execution_count": 24,
     "metadata": {},
     "output_type": "execute_result"
    }
   ],
   "source": [
    "df['tier'].value_counts()\n",
    "#looks like there are 6 tiers instead of 5"
   ]
  },
  {
   "cell_type": "code",
   "execution_count": 25,
   "id": "78d749e3-be61-4f88-81bf-2d71101a8f6a",
   "metadata": {},
   "outputs": [
    {
     "data": {
      "text/plain": [
       "count    22277.000000\n",
       "mean         1.073574\n",
       "std          0.261082\n",
       "min          1.000000\n",
       "25%          1.000000\n",
       "50%          1.000000\n",
       "75%          1.000000\n",
       "max          2.000000\n",
       "Name: fulltime, dtype: float64"
      ]
     },
     "execution_count": 25,
     "metadata": {},
     "output_type": "execute_result"
    }
   ],
   "source": [
    "df['fulltime'].describe()"
   ]
  },
  {
   "cell_type": "code",
   "execution_count": 26,
   "id": "9075debf-f10e-44fa-b0da-ffd7345465ee",
   "metadata": {},
   "outputs": [
    {
     "data": {
      "text/plain": [
       "1.0    20638\n",
       "2.0     1639\n",
       "Name: fulltime, dtype: int64"
      ]
     },
     "execution_count": 26,
     "metadata": {},
     "output_type": "execute_result"
    }
   ],
   "source": [
    "df['fulltime'].value_counts()\n",
    "#based on the parttime column, 1 = fulltime, 2 = parttime. weird that it's not using the 0 / 1 convention"
   ]
  },
  {
   "cell_type": "code",
   "execution_count": 27,
   "id": "4036c584-b4ed-4fbc-bfb9-f014b64e64ca",
   "metadata": {},
   "outputs": [
    {
     "data": {
      "text/plain": [
       "0.0    20638\n",
       "1.0     1639\n",
       "Name: parttime, dtype: int64"
      ]
     },
     "execution_count": 27,
     "metadata": {},
     "output_type": "execute_result"
    }
   ],
   "source": [
    "df['parttime'].value_counts()"
   ]
  },
  {
   "cell_type": "code",
   "execution_count": 28,
   "id": "aa0d533c-572b-4633-9a8d-171b147e9480",
   "metadata": {},
   "outputs": [
    {
     "data": {
      "text/plain": [
       "count    22277.000000\n",
       "mean         0.948198\n",
       "std          0.221633\n",
       "min          0.000000\n",
       "25%          1.000000\n",
       "50%          1.000000\n",
       "75%          1.000000\n",
       "max          1.000000\n",
       "Name: pass_bar, dtype: float64"
      ]
     },
     "execution_count": 28,
     "metadata": {},
     "output_type": "execute_result"
    }
   ],
   "source": [
    "df['pass_bar'].describe()"
   ]
  },
  {
   "cell_type": "code",
   "execution_count": 29,
   "id": "5d7ac816-b56d-4b3a-a9ef-16e4f65f1268",
   "metadata": {},
   "outputs": [
    {
     "data": {
      "text/plain": [
       "1    21123\n",
       "0     1154\n",
       "Name: pass_bar, dtype: int64"
      ]
     },
     "execution_count": 29,
     "metadata": {},
     "output_type": "execute_result"
    }
   ],
   "source": [
    "df['pass_bar'].value_counts()\n",
    "#most of them passed...might need to add some kind of penalty"
   ]
  },
  {
   "cell_type": "markdown",
   "id": "29f4c8c6-da25-4914-8100-e180ba67dacb",
   "metadata": {},
   "source": [
    "## Model Building"
   ]
  },
  {
   "cell_type": "code",
   "execution_count": 30,
   "id": "67987146-2d1f-4edd-9fed-1778654216b6",
   "metadata": {},
   "outputs": [],
   "source": [
    "# specify X and y\n",
    "y = df['pass_bar']\n",
    "X = df[features]"
   ]
  },
  {
   "cell_type": "code",
   "execution_count": 31,
   "id": "13fc1677-11a5-486c-b438-e519b9daa296",
   "metadata": {},
   "outputs": [],
   "source": [
    "# train-test split\n",
    "X_train, X_test, y_train, y_test = train_test_split(X, y, test_size = .10, random_state=12) #used a smaller value for test_size since the data set is large"
   ]
  },
  {
   "cell_type": "code",
   "execution_count": 32,
   "id": "2eaaa7b5-8329-4d5e-bec8-0b308dfb8c68",
   "metadata": {},
   "outputs": [
    {
     "data": {
      "text/html": [
       "<style>#sk-container-id-1 {color: black;background-color: white;}#sk-container-id-1 pre{padding: 0;}#sk-container-id-1 div.sk-toggleable {background-color: white;}#sk-container-id-1 label.sk-toggleable__label {cursor: pointer;display: block;width: 100%;margin-bottom: 0;padding: 0.3em;box-sizing: border-box;text-align: center;}#sk-container-id-1 label.sk-toggleable__label-arrow:before {content: \"▸\";float: left;margin-right: 0.25em;color: #696969;}#sk-container-id-1 label.sk-toggleable__label-arrow:hover:before {color: black;}#sk-container-id-1 div.sk-estimator:hover label.sk-toggleable__label-arrow:before {color: black;}#sk-container-id-1 div.sk-toggleable__content {max-height: 0;max-width: 0;overflow: hidden;text-align: left;background-color: #f0f8ff;}#sk-container-id-1 div.sk-toggleable__content pre {margin: 0.2em;color: black;border-radius: 0.25em;background-color: #f0f8ff;}#sk-container-id-1 input.sk-toggleable__control:checked~div.sk-toggleable__content {max-height: 200px;max-width: 100%;overflow: auto;}#sk-container-id-1 input.sk-toggleable__control:checked~label.sk-toggleable__label-arrow:before {content: \"▾\";}#sk-container-id-1 div.sk-estimator input.sk-toggleable__control:checked~label.sk-toggleable__label {background-color: #d4ebff;}#sk-container-id-1 div.sk-label input.sk-toggleable__control:checked~label.sk-toggleable__label {background-color: #d4ebff;}#sk-container-id-1 input.sk-hidden--visually {border: 0;clip: rect(1px 1px 1px 1px);clip: rect(1px, 1px, 1px, 1px);height: 1px;margin: -1px;overflow: hidden;padding: 0;position: absolute;width: 1px;}#sk-container-id-1 div.sk-estimator {font-family: monospace;background-color: #f0f8ff;border: 1px dotted black;border-radius: 0.25em;box-sizing: border-box;margin-bottom: 0.5em;}#sk-container-id-1 div.sk-estimator:hover {background-color: #d4ebff;}#sk-container-id-1 div.sk-parallel-item::after {content: \"\";width: 100%;border-bottom: 1px solid gray;flex-grow: 1;}#sk-container-id-1 div.sk-label:hover label.sk-toggleable__label {background-color: #d4ebff;}#sk-container-id-1 div.sk-serial::before {content: \"\";position: absolute;border-left: 1px solid gray;box-sizing: border-box;top: 0;bottom: 0;left: 50%;z-index: 0;}#sk-container-id-1 div.sk-serial {display: flex;flex-direction: column;align-items: center;background-color: white;padding-right: 0.2em;padding-left: 0.2em;position: relative;}#sk-container-id-1 div.sk-item {position: relative;z-index: 1;}#sk-container-id-1 div.sk-parallel {display: flex;align-items: stretch;justify-content: center;background-color: white;position: relative;}#sk-container-id-1 div.sk-item::before, #sk-container-id-1 div.sk-parallel-item::before {content: \"\";position: absolute;border-left: 1px solid gray;box-sizing: border-box;top: 0;bottom: 0;left: 50%;z-index: -1;}#sk-container-id-1 div.sk-parallel-item {display: flex;flex-direction: column;z-index: 1;position: relative;background-color: white;}#sk-container-id-1 div.sk-parallel-item:first-child::after {align-self: flex-end;width: 50%;}#sk-container-id-1 div.sk-parallel-item:last-child::after {align-self: flex-start;width: 50%;}#sk-container-id-1 div.sk-parallel-item:only-child::after {width: 0;}#sk-container-id-1 div.sk-dashed-wrapped {border: 1px dashed gray;margin: 0 0.4em 0.5em 0.4em;box-sizing: border-box;padding-bottom: 0.4em;background-color: white;}#sk-container-id-1 div.sk-label label {font-family: monospace;font-weight: bold;display: inline-block;line-height: 1.2em;}#sk-container-id-1 div.sk-label-container {text-align: center;}#sk-container-id-1 div.sk-container {/* jupyter's `normalize.less` sets `[hidden] { display: none; }` but bootstrap.min.css set `[hidden] { display: none !important; }` so we also need the `!important` here to be able to override the default hidden behavior on the sphinx rendered scikit-learn.org. See: https://github.com/scikit-learn/scikit-learn/issues/21755 */display: inline-block !important;position: relative;}#sk-container-id-1 div.sk-text-repr-fallback {display: none;}</style><div id=\"sk-container-id-1\" class=\"sk-top-container\"><div class=\"sk-text-repr-fallback\"><pre>LogisticRegression()</pre><b>In a Jupyter environment, please rerun this cell to show the HTML representation or trust the notebook. <br />On GitHub, the HTML representation is unable to render, please try loading this page with nbviewer.org.</b></div><div class=\"sk-container\" hidden><div class=\"sk-item\"><div class=\"sk-estimator sk-toggleable\"><input class=\"sk-toggleable__control sk-hidden--visually\" id=\"sk-estimator-id-1\" type=\"checkbox\" checked><label for=\"sk-estimator-id-1\" class=\"sk-toggleable__label sk-toggleable__label-arrow\">LogisticRegression</label><div class=\"sk-toggleable__content\"><pre>LogisticRegression()</pre></div></div></div></div></div>"
      ],
      "text/plain": [
       "LogisticRegression()"
      ]
     },
     "execution_count": 32,
     "metadata": {},
     "output_type": "execute_result"
    }
   ],
   "source": [
    "# Fit the model to the training dataset\n",
    "mymodel = LogisticRegression()\n",
    "mymodel.fit(X_train, y_train)"
   ]
  },
  {
   "cell_type": "code",
   "execution_count": 35,
   "id": "ed634c00-d5ce-4fd4-8f00-8b37da6c82e3",
   "metadata": {},
   "outputs": [
    {
     "name": "stdout",
     "output_type": "stream",
     "text": [
      "[-5.42078336]\n",
      "[[ 1.01607683  0.17376031 -0.05039563 -0.54139124]]\n"
     ]
    }
   ],
   "source": [
    "# coefficients and intercept\n",
    "print(mymodel.intercept_)\n",
    "print(mymodel.coef_)"
   ]
  },
  {
   "cell_type": "code",
   "execution_count": 36,
   "id": "bfea724b-19ec-4571-bf23-1884be4b3d37",
   "metadata": {},
   "outputs": [],
   "source": [
    "# Predict the y-values on the testing dataset\n",
    "y_preds = mymodel.predict(X_test)\n",
    "y_probs = mymodel.predict_proba(X_test)"
   ]
  },
  {
   "cell_type": "markdown",
   "id": "2fa414c3-1395-41a4-80ad-3b9fdf8a3059",
   "metadata": {},
   "source": [
    "## Model Evalution"
   ]
  },
  {
   "cell_type": "code",
   "execution_count": 37,
   "id": "af72f36c-bbda-4b5e-b242-493c4f6d58a8",
   "metadata": {},
   "outputs": [
    {
     "name": "stdout",
     "output_type": "stream",
     "text": [
      "0.9443447037701975\n"
     ]
    }
   ],
   "source": [
    "#check the accuracy\n",
    "print(metrics.accuracy_score(y_test, y_preds))\n",
    "#pretty accurate"
   ]
  },
  {
   "cell_type": "code",
   "execution_count": 38,
   "id": "743b0247-93c0-4117-bbf6-ca9355667966",
   "metadata": {},
   "outputs": [
    {
     "name": "stdout",
     "output_type": "stream",
     "text": [
      "1    19021\n",
      "0     1028\n",
      "Name: pass_bar, dtype: int64\n"
     ]
    }
   ],
   "source": [
    "# compare that to a baseline score!\n",
    "# what is the majority class of the target?\n",
    "print(y_train.value_counts())\n",
    "#not the best data set because the vast majority of the students passed the bar..."
   ]
  },
  {
   "cell_type": "code",
   "execution_count": 41,
   "id": "268d0310-dad4-4f64-9bff-08b45c05d632",
   "metadata": {},
   "outputs": [
    {
     "name": "stdout",
     "output_type": "stream",
     "text": [
      "0.9434470377019749\n"
     ]
    }
   ],
   "source": [
    "# just guess that it's always the majority class.\n",
    "# how does that effect accuracy?\n",
    "baseline_preds = np.empty(len(y_test))\n",
    "baseline_preds.fill(1)\n",
    "print(metrics.accuracy_score(baseline_preds, y_test))\n",
    "#basically the same level of accuracy as the model"
   ]
  },
  {
   "cell_type": "code",
   "execution_count": 43,
   "id": "3692584b-3fac-4dff-a2e9-16cd437dd29c",
   "metadata": {},
   "outputs": [
    {
     "name": "stdout",
     "output_type": "stream",
     "text": [
      "0.0008976660682226134\n"
     ]
    }
   ],
   "source": [
    "# improvement over baseline\n",
    "print(metrics.accuracy_score(y_preds, y_test) - metrics.accuracy_score(baseline_preds, y_test))\n",
    "#no improvement b/c the pass rate was so high in the original data :("
   ]
  }
 ],
 "metadata": {
  "kernelspec": {
   "display_name": "default:Python",
   "language": "python",
   "name": "conda-env-default-py"
  },
  "language_info": {
   "codemirror_mode": {
    "name": "ipython",
    "version": 3
   },
   "file_extension": ".py",
   "mimetype": "text/x-python",
   "name": "python",
   "nbconvert_exporter": "python",
   "pygments_lexer": "ipython3",
   "version": "3.9.13"
  }
 },
 "nbformat": 4,
 "nbformat_minor": 5
}
